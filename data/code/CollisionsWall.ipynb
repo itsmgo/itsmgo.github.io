{
 "cells": [
  {
   "cell_type": "markdown",
   "metadata": {},
   "source": [
    "# Collisions"
   ]
  },
  {
   "cell_type": "code",
   "execution_count": 1,
   "metadata": {
    "collapsed": true
   },
   "outputs": [],
   "source": [
    "import numpy as np\n",
    "from pygraphics import graphics as gp\n",
    "import time"
   ]
  },
  {
   "cell_type": "markdown",
   "metadata": {},
   "source": [
    "### Basic Functions"
   ]
  },
  {
   "cell_type": "code",
   "execution_count": 2,
   "metadata": {
    "collapsed": true
   },
   "outputs": [],
   "source": [
    "def distancia(A,B):\n",
    "    p1 = A.getCenter()\n",
    "    p2 = B.getCenter()\n",
    "    return np.sqrt((p1.x-p2.x)**2+(p1.y-p2.y)**2)\n",
    "\n",
    "def angle(A,B):\n",
    "    p1 = A.getCenter()\n",
    "    p2 = B.getCenter()\n",
    "    return np.arctan((p2.y-p1.y)/(p1.x-p2.x))\n",
    "\n",
    "def transformar(i,j,theta):\n",
    "    \n",
    "    A = np.array([Vx[i], Vy[i]])\n",
    "    B = np.array([Vx[j], Vy[j]])\n",
    "    M = np.array([[np.cos(theta), -np.sin(theta)], [np.sin(theta), np.cos(theta)]])\n",
    "    Mi = (1/np.linalg.det(M))*np.array([[np.cos(theta), np.sin(theta)], [-np.sin(theta) ,np.cos(theta)]])\n",
    "    Ap = np.dot(M,A)\n",
    "    Bp = np.dot(M,B)\n",
    "    \n",
    "    if np.dot(A,B) < 0:\n",
    "        Ap[0] = -Ap[0]\n",
    "        Bp[0] = -Bp[0]\n",
    "    else:\n",
    "        if np.linalg.norm(A) > np.linalg.norm(B): \n",
    "            Ap[0] = -Ap[0]\n",
    "            Bp[1] = -Bp[1]\n",
    "        else:\n",
    "            Ap[1] = -Ap[1]\n",
    "            Bp[0] = -Bp[0]\n",
    "        \n",
    "    A = np.dot(Mi,Ap)\n",
    "    B = np.dot(Mi,Bp)\n",
    "\n",
    "    Vx[i], Vy[i] =  A[0], -A[1]\n",
    "    Vx[j], Vy[j] =  B[0], -B[1]"
   ]
  },
  {
   "cell_type": "markdown",
   "metadata": {},
   "source": [
    "### General Set Up"
   ]
  },
  {
   "cell_type": "code",
   "execution_count": 3,
   "metadata": {
    "collapsed": false,
    "scrolled": true
   },
   "outputs": [],
   "source": [
    "radi = 20.\n",
    "fI = 0.9\n",
    "velo = 500.\n",
    "g = 200\n",
    "\n",
    "pos1 = [400,490]\n",
    "pos2 = [800,510]\n",
    "v1 = [2,0.5]\n",
    "v2 = [-1,-0.1]\n",
    "\n",
    "numBoles = 2\n",
    "boles = []\n",
    "\n",
    "t0 = time.time()\n",
    "td = time.time()\n",
    "interval = 1/60.\n",
    "itv = interval*2000\n",
    "\n",
    "Ax = []\n",
    "Rx = []\n",
    "Ay = []\n",
    "Vx = [v1[0]*velo,v2[0]*velo]\n",
    "Vy = [v1[1]*velo,v2[1]*velo]\n",
    "#Vx = []\n",
    "#Vy = []\n",
    "Ry = []\n",
    "canvi = []\n",
    "colisio = []\n",
    "\n",
    "for i in range(numBoles):\n",
    "    ax = 0\n",
    "    ay = g\n",
    "\n",
    "    vx = Vx[i]\n",
    "    vy = Vy[i]\n",
    "    #vx = ax/itv + (np.random.rand()-0.5)*velo\n",
    "    #vy = ay/itv + (np.random.rand()-0.5)*velo\n",
    "    \n",
    "    dx = vx/itv\n",
    "    dy = vy/itv\n",
    "    \n",
    "    Ax.append(ax)\n",
    "    Ay.append(ay)\n",
    "    Vx.append(vx)\n",
    "    Vy.append(vy)\n",
    "    Rx.append(dx)\n",
    "    Ry.append(dy)\n",
    "    canvi.append(0)\n",
    "    colisio.append(0)"
   ]
  },
  {
   "cell_type": "markdown",
   "metadata": {},
   "source": [
    "### Main Loop"
   ]
  },
  {
   "cell_type": "code",
   "execution_count": 4,
   "metadata": {
    "collapsed": false
   },
   "outputs": [],
   "source": [
    "win = gp.GraphWin(\"Field\", 1000, 1000)\n",
    "win.setBackground(\"black\")\n",
    "\n",
    "for i in range(numBoles):    \n",
    "    bola = gp.Circle(gp.Point(100+800*np.random.rand(),100+800*np.random.rand()), radi)\n",
    "    bola.setFill(\"orange\")\n",
    "    bola.setOutline(\"white\")\n",
    "    bola.draw(win)\n",
    "    boles.append(bola)\n",
    "    \n",
    "\n",
    "while time.time()-t0 < 10:\n",
    "    if time.time()-td > interval:\n",
    "        td = time.time()\n",
    "        \n",
    "        for i in range(len(boles)):\n",
    "            for j in range(i+1,len(boles)):\n",
    "                dist = distancia(boles[i], boles[j])\n",
    "                if dist < radi*2:\n",
    "                    if colisio[i] == 0:\n",
    "                        transformar(i,j, angle(boles[i],boles[j]))\n",
    "                        colisio[i] = 1\n",
    "                else:\n",
    "                    colisio[i] = 0\n",
    "            centre = boles[i].getCenter()\n",
    "            \n",
    "            Vy[i] = Vy[i]+Ay[i]/itv\n",
    "            \n",
    "            if centre.x < radi or centre.x > 1000-radi:\n",
    "                Vx[i] = -Vx[i]\n",
    "                \n",
    "            if centre.y < radi or centre.y > 1000-radi:\n",
    "                if canvi[i] == 0:\n",
    "                    Vy[i] = -Vy[i]*fI\n",
    "                    canvi[i] = 1\n",
    "            else:\n",
    "                canvi[i] = 0\n",
    "\n",
    "            Rx[i] = Vx[i]/itv\n",
    "            Ry[i] = Vy[i]/itv\n",
    "            \n",
    "            boles[i].move(Rx[i], Ry[i])\n",
    "        \n",
    "win.close()"
   ]
  }
 ],
 "metadata": {
  "kernelspec": {
   "display_name": "Python 2",
   "language": "python",
   "name": "python2"
  },
  "language_info": {
   "codemirror_mode": {
    "name": "ipython",
    "version": 2
   },
   "file_extension": ".py",
   "mimetype": "text/x-python",
   "name": "python",
   "nbconvert_exporter": "python",
   "pygments_lexer": "ipython2",
   "version": "2.7.12"
  },
  "widgets": {
   "state": {},
   "version": "1.0.0"
  }
 },
 "nbformat": 4,
 "nbformat_minor": 1
}
